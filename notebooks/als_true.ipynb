{
 "cells": [
  {
   "cell_type": "code",
   "execution_count": 1,
   "id": "b67e6ea3",
   "metadata": {},
   "outputs": [
    {
     "name": "stderr",
     "output_type": "stream",
     "text": [
      "WARNING: Using incubator modules: jdk.incubator.vector\n",
      "Using Spark's default log4j profile: org/apache/spark/log4j2-defaults.properties\n",
      "Setting default log level to \"WARN\".\n",
      "To adjust logging level use sc.setLogLevel(newLevel). For SparkR, use setLogLevel(newLevel).\n",
      "25/07/18 12:52:39 WARN NativeCodeLoader: Unable to load native-hadoop library for your platform... using builtin-java classes where applicable\n",
      "25/07/18 12:52:40 WARN Utils: Service 'SparkUI' could not bind on port 4040. Attempting port 4041.\n"
     ]
    }
   ],
   "source": [
    "# import the required libraries\n",
    "import time  \n",
    "import pyspark  \n",
    "from pyspark.sql import SparkSession  \n",
    "spark = spark = SparkSession.builder.appName(\"recommendation\") \\\n",
    "    .config(\"spark.driver.memory\", \"24g\") \\\n",
    "    .config(\"spark.executor.memory\", \"38g\") \\\n",
    "    .getOrCreate()"
   ]
  },
  {
   "cell_type": "code",
   "execution_count": 2,
   "id": "eac01cb5",
   "metadata": {},
   "outputs": [
    {
     "name": "stdout",
     "output_type": "stream",
     "text": [
      "+------+-------+------+---------+\n",
      "|userId|movieId|rating|timestamp|\n",
      "+------+-------+------+---------+\n",
      "|     1|     17|   4.0|944249077|\n",
      "|     1|     25|   1.0|944250228|\n",
      "|     1|     29|   2.0|943230976|\n",
      "|     1|     30|   5.0|944249077|\n",
      "|     1|     32|   5.0|943228858|\n",
      "|     1|     34|   2.0|943228491|\n",
      "|     1|     36|   1.0|944249008|\n",
      "|     1|     80|   5.0|944248943|\n",
      "|     1|    110|   3.0|943231119|\n",
      "|     1|    111|   5.0|944249008|\n",
      "|     1|    161|   1.0|943231162|\n",
      "|     1|    166|   5.0|943228442|\n",
      "|     1|    176|   4.0|944079496|\n",
      "|     1|    223|   3.0|944082810|\n",
      "|     1|    232|   5.0|943228442|\n",
      "|     1|    260|   5.0|943228696|\n",
      "|     1|    302|   4.0|944253272|\n",
      "|     1|    306|   5.0|944248888|\n",
      "|     1|    307|   5.0|944253207|\n",
      "|     1|    322|   4.0|944053801|\n",
      "+------+-------+------+---------+\n",
      "only showing top 20 rows\n"
     ]
    }
   ],
   "source": [
    "# load the datasets using pyspark\n",
    "movies = spark.read.load(\"../data/raw/movies.csv\", format='csv', header = True)\n",
    "ratings = spark.read.load('../data/raw/ratings.csv', format='csv', header = True)\n",
    "links = spark.read.load(\"../data/raw/links.csv\", format='csv', header = True)\n",
    "tags = spark.read.load(\"../data/raw/tags.csv\", format='csv', header = True)\n",
    "ratings.show()"
   ]
  },
  {
   "cell_type": "code",
   "execution_count": 3,
   "id": "1c3c8f82",
   "metadata": {},
   "outputs": [
    {
     "name": "stdout",
     "output_type": "stream",
     "text": [
      "root\n",
      " |-- userId: string (nullable = true)\n",
      " |-- movieId: string (nullable = true)\n",
      " |-- rating: string (nullable = true)\n",
      "\n"
     ]
    }
   ],
   "source": [
    "ratings = ratings.select(\"userId\", \"movieId\", \"rating\")\n",
    "ratings.printSchema()"
   ]
  },
  {
   "cell_type": "code",
   "execution_count": 4,
   "id": "648ee7a5",
   "metadata": {},
   "outputs": [
    {
     "name": "stdout",
     "output_type": "stream",
     "text": [
      "root\n",
      " |-- userId: integer (nullable = true)\n",
      " |-- movieId: integer (nullable = true)\n",
      " |-- rating: float (nullable = true)\n",
      "\n"
     ]
    }
   ],
   "source": [
    "# convert the data type to integer and float\n",
    "df = ratings.withColumn('userId', ratings['userId'].cast('int')).\\\n",
    "withColumn('movieId', ratings['movieId'].cast('int')).withColumn('rating', ratings['rating'].cast('float'))\n",
    "df.printSchema()"
   ]
  },
  {
   "cell_type": "code",
   "execution_count": 5,
   "id": "348d2514",
   "metadata": {},
   "outputs": [
    {
     "name": "stderr",
     "output_type": "stream",
     "text": [
      "[Stage 11:=====================================>                  (10 + 5) / 15]\r"
     ]
    },
    {
     "name": "stdout",
     "output_type": "stream",
     "text": [
      "The number of ratings in each set: 19195595, 6403105, 6401504\n"
     ]
    },
    {
     "name": "stderr",
     "output_type": "stream",
     "text": [
      "                                                                                \r"
     ]
    }
   ],
   "source": [
    "# split the data into train, validation and test sets\n",
    "train, validation, test = df.randomSplit([0.6,0.2,0.2], seed = 0)\n",
    "print(\"The number of ratings in each set: {}, {}, {}\".format(train.count(), validation.count(), test.count()))"
   ]
  },
  {
   "cell_type": "code",
   "execution_count": 6,
   "id": "cd0b5402",
   "metadata": {},
   "outputs": [],
   "source": [
    "from pyspark.sql.functions import col, sqrt\n",
    "def RMSE(predictions):\n",
    "    squared_diff = predictions.withColumn(\"squared_diff\", pow(col(\"rating\") - col(\"prediction\"), 2))\n",
    "    mse = squared_diff.selectExpr(\"mean(squared_diff) as mse\").first().mse\n",
    "    return mse ** 0.5"
   ]
  },
  {
   "cell_type": "code",
   "execution_count": 7,
   "id": "2039735d",
   "metadata": {},
   "outputs": [],
   "source": [
    "# implement the model using ALS algorithm and find the right hyperparameters using Grid Search\n",
    "from pyspark.ml.recommendation import ALS\n",
    "\n",
    "def GridSearch(train, valid, num_iterations, reg_param, n_factors):\n",
    "    min_rmse = float('inf')\n",
    "    best_n = -1\n",
    "    best_reg = 0\n",
    "    best_model = None\n",
    "    # run Grid Search for all the parameter defined in the range in a loop\n",
    "    for n in n_factors:\n",
    "        for reg in reg_param:\n",
    "            als = ALS(rank = n, \n",
    "                      maxIter = num_iterations, \n",
    "                      seed = 0, \n",
    "                      regParam = reg,\n",
    "                      userCol=\"userId\", \n",
    "                      itemCol=\"movieId\", \n",
    "                      ratingCol=\"rating\", \n",
    "                      coldStartStrategy=\"drop\")            \n",
    "            model = als.fit(train)\n",
    "            predictions = model.transform(valid)\n",
    "            rmse = RMSE(predictions)     \n",
    "            print('{} latent factors and regularization = {}: validation RMSE is {}'.format(n, reg, rmse))\n",
    "            # track the best model using RMSE\n",
    "            if rmse < min_rmse:\n",
    "                min_rmse = rmse\n",
    "                best_n = n\n",
    "                best_reg = reg\n",
    "                best_model = model\n",
    "                \n",
    "    pred = best_model.transform(train)\n",
    "    train_rmse = RMSE(pred)\n",
    "    # best model and its metrics\n",
    "    print('\\nThe best model has {} latent factors and regularization = {}:'.format(best_n, best_reg))\n",
    "    print('traning RMSE is {}; validation RMSE is {}'.format(train_rmse, min_rmse))\n",
    "    return best_model"
   ]
  },
  {
   "cell_type": "code",
   "execution_count": 8,
   "id": "a00ae43e",
   "metadata": {},
   "outputs": [
    {
     "name": "stderr",
     "output_type": "stream",
     "text": [
      "                                                                                \r"
     ]
    },
    {
     "name": "stdout",
     "output_type": "stream",
     "text": [
      "6 latent factors and regularization = 0.05: validation RMSE is 0.8040265470547072\n"
     ]
    },
    {
     "name": "stderr",
     "output_type": "stream",
     "text": [
      "                                                                                \r"
     ]
    },
    {
     "name": "stdout",
     "output_type": "stream",
     "text": [
      "6 latent factors and regularization = 0.1: validation RMSE is 0.8094152985472945\n"
     ]
    },
    {
     "name": "stderr",
     "output_type": "stream",
     "text": [
      "                                                                                \r"
     ]
    },
    {
     "name": "stdout",
     "output_type": "stream",
     "text": [
      "6 latent factors and regularization = 0.2: validation RMSE is 0.8543615543305509\n"
     ]
    },
    {
     "name": "stderr",
     "output_type": "stream",
     "text": [
      "                                                                                \r"
     ]
    },
    {
     "name": "stdout",
     "output_type": "stream",
     "text": [
      "6 latent factors and regularization = 0.4: validation RMSE is 0.9499406319977305\n"
     ]
    },
    {
     "name": "stderr",
     "output_type": "stream",
     "text": [
      "                                                                                \r"
     ]
    },
    {
     "name": "stdout",
     "output_type": "stream",
     "text": [
      "6 latent factors and regularization = 0.8: validation RMSE is 1.1753617359519688\n"
     ]
    },
    {
     "name": "stderr",
     "output_type": "stream",
     "text": [
      "                                                                                \r"
     ]
    },
    {
     "name": "stdout",
     "output_type": "stream",
     "text": [
      "8 latent factors and regularization = 0.05: validation RMSE is 0.79823323001624\n"
     ]
    },
    {
     "name": "stderr",
     "output_type": "stream",
     "text": [
      "                                                                                \r"
     ]
    },
    {
     "name": "stdout",
     "output_type": "stream",
     "text": [
      "8 latent factors and regularization = 0.1: validation RMSE is 0.8059870711087452\n"
     ]
    },
    {
     "name": "stderr",
     "output_type": "stream",
     "text": [
      "                                                                                \r"
     ]
    },
    {
     "name": "stdout",
     "output_type": "stream",
     "text": [
      "8 latent factors and regularization = 0.2: validation RMSE is 0.8538247514175864\n"
     ]
    },
    {
     "name": "stderr",
     "output_type": "stream",
     "text": [
      "                                                                                \r"
     ]
    },
    {
     "name": "stdout",
     "output_type": "stream",
     "text": [
      "8 latent factors and regularization = 0.4: validation RMSE is 0.9489515159238097\n"
     ]
    },
    {
     "name": "stderr",
     "output_type": "stream",
     "text": [
      "                                                                                \r"
     ]
    },
    {
     "name": "stdout",
     "output_type": "stream",
     "text": [
      "8 latent factors and regularization = 0.8: validation RMSE is 1.1753708059067451\n"
     ]
    },
    {
     "name": "stderr",
     "output_type": "stream",
     "text": [
      "                                                                                \r"
     ]
    },
    {
     "name": "stdout",
     "output_type": "stream",
     "text": [
      "10 latent factors and regularization = 0.05: validation RMSE is 0.794012040146468\n"
     ]
    },
    {
     "name": "stderr",
     "output_type": "stream",
     "text": [
      "                                                                                \r"
     ]
    },
    {
     "name": "stdout",
     "output_type": "stream",
     "text": [
      "10 latent factors and regularization = 0.1: validation RMSE is 0.8039336298180445\n"
     ]
    },
    {
     "name": "stderr",
     "output_type": "stream",
     "text": [
      "                                                                                \r"
     ]
    },
    {
     "name": "stdout",
     "output_type": "stream",
     "text": [
      "10 latent factors and regularization = 0.2: validation RMSE is 0.8540944166536334\n"
     ]
    },
    {
     "name": "stderr",
     "output_type": "stream",
     "text": [
      "                                                                                \r"
     ]
    },
    {
     "name": "stdout",
     "output_type": "stream",
     "text": [
      "10 latent factors and regularization = 0.4: validation RMSE is 0.9484889455872131\n"
     ]
    },
    {
     "name": "stderr",
     "output_type": "stream",
     "text": [
      "                                                                                \r"
     ]
    },
    {
     "name": "stdout",
     "output_type": "stream",
     "text": [
      "10 latent factors and regularization = 0.8: validation RMSE is 1.1753810324018505\n"
     ]
    },
    {
     "name": "stderr",
     "output_type": "stream",
     "text": [
      "                                                                                \r"
     ]
    },
    {
     "name": "stdout",
     "output_type": "stream",
     "text": [
      "12 latent factors and regularization = 0.05: validation RMSE is 0.7896918639834328\n"
     ]
    },
    {
     "name": "stderr",
     "output_type": "stream",
     "text": [
      "                                                                                \r"
     ]
    },
    {
     "name": "stdout",
     "output_type": "stream",
     "text": [
      "12 latent factors and regularization = 0.1: validation RMSE is 0.8018040624412729\n"
     ]
    },
    {
     "name": "stderr",
     "output_type": "stream",
     "text": [
      "                                                                                \r"
     ]
    },
    {
     "name": "stdout",
     "output_type": "stream",
     "text": [
      "12 latent factors and regularization = 0.2: validation RMSE is 0.8532478843569731\n"
     ]
    },
    {
     "name": "stderr",
     "output_type": "stream",
     "text": [
      "                                                                                \r"
     ]
    },
    {
     "name": "stdout",
     "output_type": "stream",
     "text": [
      "12 latent factors and regularization = 0.4: validation RMSE is 0.9491584885520659\n"
     ]
    },
    {
     "name": "stderr",
     "output_type": "stream",
     "text": [
      "                                                                                \r"
     ]
    },
    {
     "name": "stdout",
     "output_type": "stream",
     "text": [
      "12 latent factors and regularization = 0.8: validation RMSE is 1.1753641726235446\n"
     ]
    },
    {
     "name": "stderr",
     "output_type": "stream",
     "text": [
      "[Stage 3009:==================================================>   (15 + 1) / 16]\r"
     ]
    },
    {
     "name": "stdout",
     "output_type": "stream",
     "text": [
      "\n",
      "The best model has 12 latent factors and regularization = 0.05:\n",
      "traning RMSE is 0.7099878658149557; validation RMSE is 0.7896918639834328\n",
      "Total Runtime: 851.18 seconds\n"
     ]
    },
    {
     "name": "stderr",
     "output_type": "stream",
     "text": [
      "                                                                                \r"
     ]
    }
   ],
   "source": [
    "# build the model using different ranges for Grid Search\n",
    "from pyspark.sql.functions import col, sqrt\n",
    "num_iterations = 10\n",
    "ranks = [6, 8, 10, 12]\n",
    "reg_params = [0.05, 0.1, 0.2, 0.4, 0.8]\n",
    "\n",
    "start_time = time.time()\n",
    "final_model = GridSearch(train, validation, num_iterations, reg_params, ranks)\n",
    "print('Total Runtime: {:.2f} seconds'.format(time.time() - start_time))"
   ]
  },
  {
   "cell_type": "code",
   "execution_count": 9,
   "id": "fe2c21a4",
   "metadata": {},
   "outputs": [
    {
     "name": "stderr",
     "output_type": "stream",
     "text": [
      "[Stage 3112:===============================================>      (14 + 2) / 16]\r"
     ]
    },
    {
     "name": "stdout",
     "output_type": "stream",
     "text": [
      "The testing RMSE is 0.7896519280173803\n"
     ]
    },
    {
     "name": "stderr",
     "output_type": "stream",
     "text": [
      "                                                                                \r"
     ]
    }
   ],
   "source": [
    "# test the accuracy of the model on test set using RMSE \n",
    "pred_test = final_model.transform(test)\n",
    "print('The testing RMSE is ' + str(RMSE(pred_test)))"
   ]
  },
  {
   "cell_type": "code",
   "execution_count": 11,
   "id": "f330922e",
   "metadata": {},
   "outputs": [
    {
     "name": "stderr",
     "output_type": "stream",
     "text": [
      "[Stage 3145:===========================>                           (5 + 5) / 10]\r"
     ]
    },
    {
     "name": "stdout",
     "output_type": "stream",
     "text": [
      "+-------+------+\n",
      "|movieId|userId|\n",
      "+-------+------+\n",
      "|     31|    12|\n",
      "|    724|    12|\n",
      "|   1022|    12|\n",
      "|   1704|    12|\n",
      "|   2858|    12|\n",
      "|   5620|    12|\n",
      "+-------+------+\n",
      "\n"
     ]
    },
    {
     "name": "stderr",
     "output_type": "stream",
     "text": [
      "                                                                                \r"
     ]
    }
   ],
   "source": [
    "# test for a single user \n",
    "single_user = test.filter(test['userId']==12).select(['movieId','userId'])\n",
    "single_user.show()"
   ]
  },
  {
   "cell_type": "code",
   "execution_count": 12,
   "id": "61e2c91a",
   "metadata": {},
   "outputs": [
    {
     "name": "stderr",
     "output_type": "stream",
     "text": [
      "[Stage 3149:======================>                                (4 + 6) / 10]\r"
     ]
    },
    {
     "name": "stdout",
     "output_type": "stream",
     "text": [
      "+-------+------+-------+--------------------+--------------------+\n",
      "|movieId|userId|movieId|               title|              genres|\n",
      "+-------+------+-------+--------------------+--------------------+\n",
      "|     31|    12|     31|Dangerous Minds (...|               Drama|\n",
      "|    724|    12|    724|   Craft, The (1996)|Drama|Fantasy|Hor...|\n",
      "|   1022|    12|   1022|   Cinderella (1950)|Animation|Childre...|\n",
      "|   1704|    12|   1704|Good Will Hunting...|       Drama|Romance|\n",
      "|   2858|    12|   2858|American Beauty (...|       Drama|Romance|\n",
      "|   5620|    12|   5620|Sweet Home Alabam...|      Comedy|Romance|\n",
      "+-------+------+-------+--------------------+--------------------+\n",
      "\n"
     ]
    },
    {
     "name": "stderr",
     "output_type": "stream",
     "text": [
      "                                                                                \r"
     ]
    }
   ],
   "source": [
    "# fetch the names of the movies \n",
    "single_user.join(movies, single_user.movieId == movies.movieId, 'inner').show()"
   ]
  },
  {
   "cell_type": "code",
   "execution_count": 13,
   "id": "cf1e8a67",
   "metadata": {},
   "outputs": [
    {
     "name": "stderr",
     "output_type": "stream",
     "text": [
      "[Stage 3175:==================================================>   (14 + 1) / 15]\r"
     ]
    },
    {
     "name": "stdout",
     "output_type": "stream",
     "text": [
      "+-------+------+----------+\n",
      "|movieId|userId|prediction|\n",
      "+-------+------+----------+\n",
      "|   5620|    12| 3.6705217|\n",
      "|     31|    12| 3.4757984|\n",
      "|   1022|    12|   3.20873|\n",
      "|    724|    12| 3.0409725|\n",
      "|   1704|    12| 3.0052028|\n",
      "|   2858|    12| 2.5917907|\n",
      "+-------+------+----------+\n",
      "\n"
     ]
    },
    {
     "name": "stderr",
     "output_type": "stream",
     "text": [
      "                                                                                \r"
     ]
    }
   ],
   "source": [
    "# verify the prediction rating for the user\n",
    "reccomendations = final_model.transform(single_user)\n",
    "reccomendations.orderBy('prediction',ascending=False).show()"
   ]
  },
  {
   "cell_type": "code",
   "execution_count": 14,
   "id": "3f195ac9",
   "metadata": {},
   "outputs": [
    {
     "name": "stderr",
     "output_type": "stream",
     "text": [
      "[Stage 3230:===========================================>          (12 + 3) / 15]\r"
     ]
    },
    {
     "name": "stdout",
     "output_type": "stream",
     "text": [
      "+-------+------+----------+-------+--------------------+--------------------+\n",
      "|movieId|userId|prediction|movieId|               title|              genres|\n",
      "+-------+------+----------+-------+--------------------+--------------------+\n",
      "|     31|    12| 3.4757984|     31|Dangerous Minds (...|               Drama|\n",
      "|    724|    12| 3.0409725|    724|   Craft, The (1996)|Drama|Fantasy|Hor...|\n",
      "|   1022|    12|   3.20873|   1022|   Cinderella (1950)|Animation|Childre...|\n",
      "|   1704|    12| 3.0052028|   1704|Good Will Hunting...|       Drama|Romance|\n",
      "|   2858|    12| 2.5917907|   2858|American Beauty (...|       Drama|Romance|\n",
      "|   5620|    12| 3.6705217|   5620|Sweet Home Alabam...|      Comedy|Romance|\n",
      "+-------+------+----------+-------+--------------------+--------------------+\n",
      "\n"
     ]
    },
    {
     "name": "stderr",
     "output_type": "stream",
     "text": [
      "                                                                                \r"
     ]
    }
   ],
   "source": [
    "# fetch the names of the movies\n",
    "reccomendations.join(movies, reccomendations.movieId == movies.movieId, 'inner').show()"
   ]
  },
  {
   "cell_type": "code",
   "execution_count": 15,
   "id": "021b67b8",
   "metadata": {},
   "outputs": [
    {
     "name": "stdout",
     "output_type": "stream",
     "text": [
      "Movies liked by user with ID 12\n"
     ]
    },
    {
     "name": "stderr",
     "output_type": "stream",
     "text": [
      "                                                                                \r"
     ]
    },
    {
     "name": "stdout",
     "output_type": "stream",
     "text": [
      "+-------+--------------------+------+\n",
      "|movieId|               title|rating|\n",
      "+-------+--------------------+------+\n",
      "|     31|Dangerous Minds (...|   3.0|\n",
      "|    724|   Craft, The (1996)|   4.5|\n",
      "|   1022|   Cinderella (1950)|   3.0|\n",
      "|   1704|Good Will Hunting...|   3.0|\n",
      "|   2858|American Beauty (...|   5.0|\n",
      "|   5620|Sweet Home Alabam...|   4.5|\n",
      "+-------+--------------------+------+\n",
      "\n",
      "Recommended movies for user with ID 12\n"
     ]
    },
    {
     "name": "stderr",
     "output_type": "stream",
     "text": [
      "[Stage 3364:==================================================>   (14 + 1) / 15]\r"
     ]
    },
    {
     "name": "stdout",
     "output_type": "stream",
     "text": [
      "+-------+--------------------+----------+\n",
      "|movieId|               title|prediction|\n",
      "+-------+--------------------+----------+\n",
      "| 200252|The Ethereal Mela...|  6.792939|\n",
      "| 281144|Fantasy Football ...|  5.942049|\n",
      "| 154921|Future My Love (2...| 5.9267683|\n",
      "| 185337|Hans Zimmer: Live...| 5.9035535|\n",
      "| 163783|  Summer of 8 (2016)|  5.875811|\n",
      "|  94101|Crime After Crime...| 5.8409166|\n",
      "| 128872|  Love is God (2003)|  5.832617|\n",
      "| 110138|Aya of Yop City (...|  5.796935|\n",
      "| 282387|Beyond the Univer...| 5.6659055|\n",
      "| 149709|Barking at the St...| 5.6479445|\n",
      "| 265582|The Whole Truth (...|  5.646632|\n",
      "| 126941|Joni's Promise (2...| 5.6273894|\n",
      "| 245740|   The Tangle (2021)| 5.6070194|\n",
      "|  70661|Tyler Perry's Mee...| 5.5952744|\n",
      "| 138684|         Waar (2013)|  5.594674|\n",
      "| 162660|God's Not Dead 2 ...| 5.5944133|\n",
      "| 158338|Tig Notaro: Boyis...| 5.5798864|\n",
      "| 158518|Under the Gun (2016)| 5.5354614|\n",
      "| 283549|Johan Falk: Blods...|  5.535195|\n",
      "| 283553|Johan Falk: Slute...|  5.535195|\n",
      "+-------+--------------------+----------+\n",
      "only showing top 20 rows\n"
     ]
    },
    {
     "name": "stderr",
     "output_type": "stream",
     "text": [
      "                                                                                \r"
     ]
    }
   ],
   "source": [
    "from pyspark.sql.functions import col, lit\n",
    "\n",
    "# select a single user from the test set\n",
    "user_id = 12\n",
    "single_user_ratings = test.filter(test['userId'] == user_id).select(['movieId', 'userId', 'rating'])\n",
    "\n",
    "# display the movies the user has liked\n",
    "print(\"Movies liked by user with ID\", user_id)\n",
    "single_user_ratings.join(movies, 'movieId').select('movieId', 'title', 'rating').show()\n",
    "\n",
    "# generate recommendations for the user\n",
    "all_movies = df.select('movieId').distinct()\n",
    "user_movies = single_user_ratings.select('movieId').distinct()\n",
    "movies_to_recommend = all_movies.subtract(user_movies)\n",
    "\n",
    "# predict ratings for movies the user has not rated yet\n",
    "recommendations = final_model.transform(movies_to_recommend.withColumn('userId', lit(user_id)))\n",
    "\n",
    "# filter out the movies that the user has already rated or seen (this filters out the movies that the user has not liked as well)\n",
    "recommendations = recommendations.filter(col('prediction') > 0)\n",
    "\n",
    "# display the recommendations with movie names\n",
    "print(\"Recommended movies for user with ID\", user_id)\n",
    "recommended_movies = recommendations.join(movies, 'movieId').select('movieId', 'title', 'prediction')\n",
    "\n",
    "# Sort recommended movies by prediction in descending order\n",
    "ordered_recommendations = recommended_movies.orderBy(col('prediction').desc())\n",
    "\n",
    "# Display the ordered recommendations\n",
    "ordered_recommendations.show()"
   ]
  },
  {
   "cell_type": "code",
   "execution_count": null,
   "id": "5efa7cdd",
   "metadata": {},
   "outputs": [],
   "source": []
  }
 ],
 "metadata": {
  "kernelspec": {
   "display_name": "Python 3",
   "language": "python",
   "name": "python3"
  },
  "language_info": {
   "codemirror_mode": {
    "name": "ipython",
    "version": 3
   },
   "file_extension": ".py",
   "mimetype": "text/x-python",
   "name": "python",
   "nbconvert_exporter": "python",
   "pygments_lexer": "ipython3",
   "version": "3.13.5"
  }
 },
 "nbformat": 4,
 "nbformat_minor": 5
}
