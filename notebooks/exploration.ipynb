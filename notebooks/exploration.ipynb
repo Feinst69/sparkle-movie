{
 "cells": [
  {
   "cell_type": "code",
   "execution_count": null,
   "id": "ca678a36",
   "metadata": {
    "vscode": {
     "languageId": "plaintext"
    }
   },
   "outputs": [],
   "source": []
  }
 ],
 "metadata": {
  "language_info": {
   "name": "python"
  }
 },
 "nbformat": 4,
 "nbformat_minor": 5
}
